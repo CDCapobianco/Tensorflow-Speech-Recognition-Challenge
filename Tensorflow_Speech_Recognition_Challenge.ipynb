{
  "cells": [
    {
      "cell_type": "markdown",
      "metadata": {
        "id": "Xb99SL5Yj0oR"
      },
      "source": [
        "# **Environment Setup**"
      ]
    },
    {
      "cell_type": "code",
      "execution_count": null,
      "metadata": {
        "id": "qcfF615zKfxf"
      },
      "outputs": [],
      "source": [
        "!pip install ipython-autotime\n",
        "%load_ext autotime"
      ]
    },
    {
      "cell_type": "code",
      "execution_count": null,
      "metadata": {
        "id": "1Kl3L-jGjzTr"
      },
      "outputs": [],
      "source": [
        "!pip install py7zr"
      ]
    },
    {
      "cell_type": "code",
      "execution_count": null,
      "metadata": {
        "id": "R-gxMVsNv9so"
      },
      "outputs": [],
      "source": [
        "!pip install tensorflow -U"
      ]
    },
    {
      "cell_type": "code",
      "execution_count": 1,
      "metadata": {
        "id": "qG3dSSWT0n4u"
      },
      "outputs": [],
      "source": [
        "from zipfile import ZipFile\n",
        "import tensorflow as tf\n",
        "import matplotlib.pyplot as plt\n",
        "import numpy as np\n",
        "from IPython.display import Audio,Image\n",
        "import os\n",
        "from PIL import Image"
      ]
    },
    {
      "cell_type": "code",
      "execution_count": null,
      "metadata": {
        "id": "2zxZSkyMdgGj"
      },
      "outputs": [],
      "source": [
        "!pip install tensorflow==2.10\n",
        "!apt install --allow-change-held-packages libcudnn8=8.1.0.77-1+cuda11.2"
      ]
    },
    {
      "cell_type": "markdown",
      "metadata": {
        "id": "E4X2Lvskj4JO"
      },
      "source": [
        "# **Import from Kaggle**"
      ]
    },
    {
      "cell_type": "code",
      "execution_count": 6,
      "metadata": {
        "colab": {
          "base_uri": "https://localhost:8080/"
        },
        "id": "ZbGmB_M2j6XS",
        "outputId": "9a81352e-1bea-4e37-98d7-12c895461110"
      },
      "outputs": [
        {
          "output_type": "stream",
          "name": "stdout",
          "text": [
            "time: 665 ms (started: 2022-09-16 06:47:18 +00:00)\n"
          ]
        }
      ],
      "source": [
        "!mkdir /root/.kaggle\n",
        "!cp /content/drive/MyDrive/kaggle.json /root/.kaggle\n",
        "!chmod 600 /root/.kaggle/kaggle.json"
      ]
    },
    {
      "cell_type": "code",
      "execution_count": 7,
      "metadata": {
        "colab": {
          "base_uri": "https://localhost:8080/"
        },
        "id": "H8tZhsaWkLKT",
        "outputId": "74778bc1-a4a7-4da0-f77b-54299832532a"
      },
      "outputs": [
        {
          "output_type": "stream",
          "name": "stdout",
          "text": [
            "Downloading tensorflow-speech-recognition-challenge.zip to /content\n",
            "100% 3.49G/3.50G [00:34<00:00, 167MB/s]\n",
            "100% 3.50G/3.50G [00:34<00:00, 110MB/s]\n",
            "time: 35.1 s (started: 2022-09-16 06:47:19 +00:00)\n"
          ]
        }
      ],
      "source": [
        "!kaggle competitions download -c 'tensorflow-speech-recognition-challenge'"
      ]
    },
    {
      "cell_type": "code",
      "execution_count": 8,
      "metadata": {
        "colab": {
          "base_uri": "https://localhost:8080/"
        },
        "id": "9mH0_XxTlDf-",
        "outputId": "deb36df9-38b3-44db-b3ce-b8b2c4e73e7a"
      },
      "outputs": [
        {
          "output_type": "stream",
          "name": "stdout",
          "text": [
            "time: 28.9 s (started: 2022-09-16 06:47:54 +00:00)\n"
          ]
        }
      ],
      "source": [
        "with ZipFile(\"/content/tensorflow-speech-recognition-challenge.zip\",\"r\") as zip_ref:\n",
        "  zip_ref.extractall(\"/content/dataset\")"
      ]
    },
    {
      "cell_type": "code",
      "execution_count": 9,
      "metadata": {
        "colab": {
          "base_uri": "https://localhost:8080/"
        },
        "id": "i-DgpDFYoMvY",
        "outputId": "52503dd5-94b3-496f-aea9-3db1f4626eb7"
      },
      "outputs": [
        {
          "output_type": "stream",
          "name": "stdout",
          "text": [
            "time: 8min 47s (started: 2022-09-16 06:48:23 +00:00)\n"
          ]
        }
      ],
      "source": [
        "!py7zr x /content/dataset/train.7z"
      ]
    },
    {
      "cell_type": "markdown",
      "source": [
        "# **Data Processing**"
      ],
      "metadata": {
        "id": "avnSh6sl2UkL"
      }
    },
    {
      "cell_type": "code",
      "source": [
        "IMAGE_WIDTH = 128\n",
        "IMAGE_HEIGHT = 128"
      ],
      "metadata": {
        "id": "9ELz22cHKIQD"
      },
      "execution_count": 4,
      "outputs": []
    },
    {
      "cell_type": "markdown",
      "source": [
        "**Wav to Spectrogram**"
      ],
      "metadata": {
        "id": "qs9gJPK5gmv8"
      }
    },
    {
      "cell_type": "code",
      "source": [
        "def load_wav(wav_path):\n",
        "  wav = tf.io.read_file(wav_path)\n",
        "  waveform = tf.audio.decode_wav(wav, desired_channels=1)\n",
        "  return waveform.audio\n",
        "\n",
        "\n",
        "\n",
        "def wav_to_spectrogram(signal,width=128,height=128,frame_length=1024,frame_step=256,brightness=100.):\n",
        "  signal = tf.transpose(signal)\n",
        "  stfts = tf.signal.stft(signal,frame_length,frame_step)\n",
        "  spectrogram = tf.abs(stfts)\n",
        "\n",
        "  brightness = tf.constant(brightness)\n",
        "  mul = tf.multiply(spectrogram,brightness)\n",
        "  min_const = tf.constant(255.)\n",
        "  minimum = tf.minimum(mul,min_const)\n",
        "\n",
        "  expand_dims = tf.expand_dims(minimum,-1)\n",
        "\n",
        "  resize = tf.image.resize(expand_dims,[width,height])\n",
        "\n",
        "  squeeze = tf.squeeze(resize,0)\n",
        "\n",
        "  flip_left_right = tf.image.flip_left_right(squeeze)\n",
        "  transposed = tf.image.transpose(flip_left_right)\n",
        "\n",
        "  vmin = tf.reduce_min(transposed)\n",
        "  vmax = tf.reduce_max(transposed)\n",
        "\n",
        "  return (transposed - vmin) / (vmax - vmin)\n",
        "\n",
        "\n",
        "def colorize(value, cmap=None):\n",
        "        value = tf.squeeze(value)\n",
        "\n",
        "        # quantize\n",
        "        indices = tf.cast(tf.round(value * 255), dtype=tf.int32)\n",
        "\n",
        "        # gather\n",
        "        cm = plt.get_cmap(cmap if cmap is not None else 'gray')\n",
        "        colors = cm(np.arange(256))[:, :3]\n",
        "        colors = tf.constant(colors, tf.float32)\n",
        "        value = tf.gather(colors, indices)\n",
        "\n",
        "\n",
        "        return tf.clip_by_value(value,clip_value_min=0,clip_value_max = 1)\n",
        "\n",
        "\n",
        "def to_png(data):\n",
        "  return tf.io.encode_png(tf.cast(data.numpy() * 255.0, tf.uint8))\n"
      ],
      "metadata": {
        "colab": {
          "base_uri": "https://localhost:8080/"
        },
        "id": "5d_01puIFxAE",
        "outputId": "0e674fc0-03b9-4f92-9f44-4cf0de919968"
      },
      "execution_count": 16,
      "outputs": [
        {
          "output_type": "stream",
          "name": "stdout",
          "text": [
            "time: 3.59 ms (started: 2022-09-16 07:19:23 +00:00)\n"
          ]
        }
      ]
    },
    {
      "cell_type": "code",
      "source": [
        "def convert_in_dir(dir):\n",
        "  counter = 0\n",
        "  subdirs = [subdir.path for subdir in os.scandir(dir) if subdir.is_dir()]\n",
        "  for subdir in subdirs:\n",
        "    files = [wav.path for wav in os.scandir(subdir) if wav.is_file() and \".wav\" in wav.path]\n",
        "    for wav in files:\n",
        "      filename = wav.replace(\"wav\",\"png\")\n",
        "      try:\n",
        "        audio = load_wav(wav)\n",
        "        audio = wav_to_spectrogram(audio,width=IMAGE_WIDTH,height=IMAGE_HEIGHT)\n",
        "        audio = colorize(audio,cmap=\"jet\")\n",
        "        audio = to_png(audio)\n",
        "        tf.io.write_file(filename,audio)\n",
        "        print(filename)\n",
        "      except:\n",
        "        print(filename+\" can't be converted!\")\n",
        "\n",
        "      counter+=1\n",
        "      print(counter)\n",
        "      "
      ],
      "metadata": {
        "colab": {
          "base_uri": "https://localhost:8080/"
        },
        "id": "NSUX2z5V3TSD",
        "outputId": "2fcd47ff-825a-4609-c798-670095bea8c1"
      },
      "execution_count": 17,
      "outputs": [
        {
          "output_type": "stream",
          "name": "stdout",
          "text": [
            "time: 1.74 ms (started: 2022-09-16 07:19:26 +00:00)\n"
          ]
        }
      ]
    },
    {
      "cell_type": "code",
      "source": [
        "# def clean(dir):\n",
        "#   counter = 0\n",
        "#   subdirs = [subdir.path for subdir in os.scandir(dir) if subdir.is_dir()]\n",
        "#   for subdir in subdirs:\n",
        "#     files = [wav.path for wav in os.scandir(subdir) if wav.is_file() and \".png\" in wav.path]\n",
        "#     for wav in files:\n",
        "#       os.remove(wav)\n",
        "\n",
        "# clean(\"/content/train/audio\")"
      ],
      "metadata": {
        "colab": {
          "base_uri": "https://localhost:8080/"
        },
        "id": "hGGn-IfVBCFo",
        "outputId": "ec4ce291-a9e1-45bc-99a2-e59b0b31faad"
      },
      "execution_count": 14,
      "outputs": [
        {
          "output_type": "stream",
          "name": "stdout",
          "text": [
            "time: 1.87 s (started: 2022-09-16 07:18:58 +00:00)\n"
          ]
        }
      ]
    },
    {
      "cell_type": "code",
      "source": [
        "convert_in_dir(\"/content/train/audio\")"
      ],
      "metadata": {
        "id": "eKWcsTbp6Xeh"
      },
      "execution_count": null,
      "outputs": []
    },
    {
      "cell_type": "markdown",
      "source": [
        "**Train,Validation and Test Set Building**"
      ],
      "metadata": {
        "id": "iJGwkhtFgu0z"
      }
    },
    {
      "cell_type": "code",
      "source": [
        "train_set = tf.keras.utils.image_dataset_from_directory(\"/content/train/audio\",\n",
        "                                                        validation_split = 0.2,\n",
        "                                                        seed = 25,\n",
        "                                                        subset = \"training\",\n",
        "                                                        image_size=[IMAGE_HEIGHT,IMAGE_WIDTH],\n",
        "                                                        label_mode = \"categorical\"\n",
        "                                                        )\n",
        "validation_set = tf.keras.utils.image_dataset_from_directory(\"/content/train/audio\",\n",
        "                                                        validation_split = 0.2,\n",
        "                                                        seed = 25,\n",
        "                                                        subset = \"validation\",\n",
        "                                                        image_size=[IMAGE_HEIGHT,IMAGE_WIDTH],\n",
        "                                                        label_mode = \"categorical\"\n",
        "                                                        )"
      ],
      "metadata": {
        "colab": {
          "base_uri": "https://localhost:8080/"
        },
        "id": "S8OHLv307YKC",
        "outputId": "e83e9c1d-d9d8-46a6-936a-44b18d07d863"
      },
      "execution_count": 2,
      "outputs": [
        {
          "output_type": "stream",
          "name": "stdout",
          "text": [
            "Found 64727 files belonging to 31 classes.\n",
            "Using 51782 files for training.\n",
            "Found 64727 files belonging to 31 classes.\n",
            "Using 12945 files for validation.\n"
          ]
        }
      ]
    },
    {
      "cell_type": "code",
      "source": [
        "validation_cardinality = tf.data.experimental.cardinality(validation_set)\n",
        "test_set = validation_set.take(validation_cardinality // 5)\n",
        "validation_set = validation_set.skip(validation_cardinality // 5)"
      ],
      "metadata": {
        "id": "4w8bAx0mNE4Q"
      },
      "execution_count": 3,
      "outputs": []
    },
    {
      "cell_type": "code",
      "source": [
        "plt.imshow(train_set.as_numpy_iterator().next()[0][8]/255.)"
      ],
      "metadata": {
        "colab": {
          "base_uri": "https://localhost:8080/",
          "height": 304
        },
        "id": "lznEAtE2EXtb",
        "outputId": "8d5e1bce-7af9-469f-bc85-bbc024f03db8"
      },
      "execution_count": 21,
      "outputs": [
        {
          "output_type": "execute_result",
          "data": {
            "text/plain": [
              "<matplotlib.image.AxesImage at 0x7fb94203f550>"
            ]
          },
          "metadata": {},
          "execution_count": 21
        },
        {
          "output_type": "display_data",
          "data": {
            "text/plain": [
              "<Figure size 432x288 with 1 Axes>"
            ],
            "image/png": "[encoded data removed]"
          },
          "metadata": {
            "needs_background": "light"
          }
        },
        {
          "output_type": "stream",
          "name": "stdout",
          "text": [
            "time: 3.31 s (started: 2022-09-16 08:13:33 +00:00)\n"
          ]
        }
      ]
    },
    {
      "cell_type": "code",
      "source": [
        "AUTOTUNE = tf.data.AUTOTUNE\n",
        "\n",
        "train_set = train_set.cache().shuffle(1000).prefetch(buffer_size = AUTOTUNE)\n",
        "validation_set = validation_set.cache().shuffle(1000).prefetch(buffer_size = AUTOTUNE)\n",
        "test_set = test_set.cache().shuffle(1000).prefetch(buffer_size = AUTOTUNE)"
      ],
      "metadata": {
        "id": "nvtg5wV4FpWw"
      },
      "execution_count": 4,
      "outputs": []
    },
    {
      "cell_type": "markdown",
      "metadata": {
        "id": "B-nu1qvfu8pC"
      },
      "source": [
        "# **Training and Testing**"
      ]
    },
    {
      "cell_type": "code",
      "execution_count": 5,
      "metadata": {
        "id": "WsKr68-Du_d3"
      },
      "outputs": [],
      "source": [
        "model = tf.keras.Sequential([\n",
        "  tf.keras.layers.Rescaling(1/255.,input_shape = [IMAGE_HEIGHT,IMAGE_WIDTH,3]),\n",
        "  tf.keras.layers.Conv2D(64, 3, activation='relu'),\n",
        "  tf.keras.layers.MaxPooling2D(),\n",
        "  tf.keras.layers.Dropout(0.4),\n",
        "  tf.keras.layers.Conv2D(64, 3, activation='relu'),\n",
        "  tf.keras.layers.MaxPooling2D(),\n",
        "  tf.keras.layers.Dropout(0.4),\n",
        "  tf.keras.layers.Conv2D(64, 3, activation='relu'),\n",
        "  tf.keras.layers.MaxPooling2D(),\n",
        "  tf.keras.layers.Dropout(0.4),\n",
        "  tf.keras.layers.Conv2D(64, 3, activation='relu'),\n",
        "  tf.keras.layers.MaxPooling2D(),\n",
        "  tf.keras.layers.Dropout(0.4),\n",
        "  tf.keras.layers.Conv2D(64, 3, activation='relu'),\n",
        "  tf.keras.layers.MaxPooling2D(),\n",
        "  tf.keras.layers.Dropout(0.4),\n",
        "  tf.keras.layers.Flatten(),\n",
        "  tf.keras.layers.Dense(128, activation='relu'),\n",
        "  tf.keras.layers.Dropout(0.4),\n",
        "  tf.keras.layers.Dense(128, activation='relu'),\n",
        "  tf.keras.layers.Dropout(0.4),\n",
        "  tf.keras.layers.Dense(31,activation=\"softmax\")\n",
        "])"
      ]
    },
    {
      "cell_type": "code",
      "execution_count": 6,
      "metadata": {
        "id": "1K-K2b97wXQQ"
      },
      "outputs": [],
      "source": [
        "model.compile(optimizer=\"adam\",loss=tf.keras.losses.CategoricalCrossentropy(from_logits=False),metrics=[\"accuracy\",tf.keras.metrics.Precision(),tf.keras.metrics.Recall()])"
      ]
    },
    {
      "cell_type": "code",
      "execution_count": null,
      "metadata": {
        "id": "ndBV9DEe9cFk"
      },
      "outputs": [],
      "source": [
        "model.summary()"
      ]
    },
    {
      "cell_type": "code",
      "source": [
        "earlystopping = tf.keras.callbacks.EarlyStopping(monitor=\"val_accuracy\",patience=10,verbose=1,restore_best_weights=True)\n",
        "lr_plateau = tf.keras.callbacks.ReduceLROnPlateau(monitor=\"val_accuracy\",patience=3,verbose=1)"
      ],
      "metadata": {
        "id": "Rpu_O4RJNMAB"
      },
      "execution_count": 7,
      "outputs": []
    },
    {
      "cell_type": "code",
      "execution_count": null,
      "metadata": {
        "id": "zWtuvqQBw09w"
      },
      "outputs": [],
      "source": [
        "history = model.fit(train_set,epochs=60,validation_data=(validation_set),callbacks=[earlystopping,lr_plateau]) "
      ]
    },
    {
      "cell_type": "code",
      "source": [
        "model.evaluate(test_set)"
      ],
      "metadata": {
        "colab": {
          "base_uri": "https://localhost:8080/"
        },
        "id": "fyfVo5HDijU0",
        "outputId": "4fe60331-c34f-4171-975c-8375ccf85c86"
      },
      "execution_count": 35,
      "outputs": [
        {
          "output_type": "stream",
          "name": "stdout",
          "text": [
            "81/81 [==============================] - 2s 25ms/step - loss: 0.3713 - accuracy: 0.9005 - precision_2: 0.9398 - recall_2: 0.8792\n"
          ]
        },
        {
          "output_type": "execute_result",
          "data": {
            "text/plain": [
              "[0.37134310603141785,\n",
              " 0.9004629850387573,\n",
              " 0.9397938251495361,\n",
              " 0.8792438507080078]"
            ]
          },
          "metadata": {},
          "execution_count": 35
        }
      ]
    }
  ],
  "metadata": {
    "colab": {
      "provenance": []
    },
    "gpuClass": "standard",
    "kernelspec": {
      "display_name": "Python 3",
      "name": "python3"
    },
    "language_info": {
      "name": "python"
    },
    "accelerator": "GPU"
  },
  "nbformat": 4,
  "nbformat_minor": 0
}